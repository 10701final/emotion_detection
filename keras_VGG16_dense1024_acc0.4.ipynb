{
 "cells": [
  {
   "cell_type": "code",
   "execution_count": 1,
   "metadata": {},
   "outputs": [],
   "source": [
    "import matplotlib.pyplot as plt\n",
    "import pandas as pd\n",
    "import numpy as np\n",
    "\n",
    "import tensorflow as tf\n",
    "from tensorflow.keras.layers import *\n",
    "from tensorflow.python.lib.io import file_io\n",
    "\n",
    "%matplotlib inline\n",
    "\n",
    "import keras\n",
    "from keras import backend as K\n",
    "from keras.callbacks import ModelCheckpoint, EarlyStopping\n",
    "from keras.models import load_model\n",
    "from keras.preprocessing.image import ImageDataGenerator\n",
    "from tensorflow.python.keras.preprocessing import image_dataset\n",
    "from keras_vggface.vggface import VGGFace\n",
    "from keras.utils import plot_model\n",
    "from sklearn.metrics import *\n",
    "from keras.engine import Model\n",
    "from keras.layers import Input, Flatten, Dense, Activation, Conv2D, MaxPool2D, BatchNormalization, Dropout, MaxPooling2D\n"
   ]
  },
  {
   "cell_type": "code",
   "execution_count": 3,
   "metadata": {},
   "outputs": [],
   "source": [
    "EPOCHS = 50\n",
    "BS = 128\n",
    "DROPOUT_RATE = 0.1\n",
    "FROZEN_LAYER_NUM = 19\n",
    "ADAM_LEARNING_RATE = 0.001"
   ]
  },
  {
   "cell_type": "markdown",
   "metadata": {},
   "source": [
    "Model Initialization\n",
    "\n",
    "\n",
    "leave the weights of the feature extraction layers unchanged, only train on the weights of the fully connected and final classification layer"
   ]
  },
  {
   "cell_type": "code",
   "execution_count": 4,
   "metadata": {},
   "outputs": [
    {
     "name": "stdout",
     "output_type": "stream",
     "text": [
      "False\n",
      "Model: \"functional_1\"\n",
      "_________________________________________________________________\n",
      "Layer (type)                 Output Shape              Param #   \n",
      "=================================================================\n",
      "input_1 (InputLayer)         [(None, 48, 48, 3)]       0         \n",
      "_________________________________________________________________\n",
      "conv1_1 (Conv2D)             (None, 48, 48, 64)        1792      \n",
      "_________________________________________________________________\n",
      "conv1_2 (Conv2D)             (None, 48, 48, 64)        36928     \n",
      "_________________________________________________________________\n",
      "pool1 (MaxPooling2D)         (None, 24, 24, 64)        0         \n",
      "_________________________________________________________________\n",
      "conv2_1 (Conv2D)             (None, 24, 24, 128)       73856     \n",
      "_________________________________________________________________\n",
      "conv2_2 (Conv2D)             (None, 24, 24, 128)       147584    \n",
      "_________________________________________________________________\n",
      "pool2 (MaxPooling2D)         (None, 12, 12, 128)       0         \n",
      "_________________________________________________________________\n",
      "conv3_1 (Conv2D)             (None, 12, 12, 256)       295168    \n",
      "_________________________________________________________________\n",
      "conv3_2 (Conv2D)             (None, 12, 12, 256)       590080    \n",
      "_________________________________________________________________\n",
      "conv3_3 (Conv2D)             (None, 12, 12, 256)       590080    \n",
      "_________________________________________________________________\n",
      "pool3 (MaxPooling2D)         (None, 6, 6, 256)         0         \n",
      "_________________________________________________________________\n",
      "conv4_1 (Conv2D)             (None, 6, 6, 512)         1180160   \n",
      "_________________________________________________________________\n",
      "conv4_2 (Conv2D)             (None, 6, 6, 512)         2359808   \n",
      "_________________________________________________________________\n",
      "conv4_3 (Conv2D)             (None, 6, 6, 512)         2359808   \n",
      "_________________________________________________________________\n",
      "pool4 (MaxPooling2D)         (None, 3, 3, 512)         0         \n",
      "_________________________________________________________________\n",
      "conv5_1 (Conv2D)             (None, 3, 3, 512)         2359808   \n",
      "_________________________________________________________________\n",
      "conv5_2 (Conv2D)             (None, 3, 3, 512)         2359808   \n",
      "_________________________________________________________________\n",
      "conv5_3 (Conv2D)             (None, 3, 3, 512)         2359808   \n",
      "_________________________________________________________________\n",
      "pool5 (MaxPooling2D)         (None, 1, 1, 512)         0         \n",
      "_________________________________________________________________\n",
      "flatten (Flatten)            (None, 512)               0         \n",
      "_________________________________________________________________\n",
      "dropout (Dropout)            (None, 512)               0         \n",
      "_________________________________________________________________\n",
      "fc6 (Dense)                  (None, 4096)              2101248   \n",
      "_________________________________________________________________\n",
      "dropout_1 (Dropout)          (None, 4096)              0         \n",
      "_________________________________________________________________\n",
      "fc7 (Dense)                  (None, 1024)              4195328   \n",
      "_________________________________________________________________\n",
      "classifier (Dense)           (None, 7)                 7175      \n",
      "=================================================================\n",
      "Total params: 21,018,439\n",
      "Trainable params: 6,303,751\n",
      "Non-trainable params: 14,714,688\n",
      "_________________________________________________________________\n",
      "None\n"
     ]
    }
   ],
   "source": [
    "vgg_model = VGGFace(model=\"vgg16\", include_top=False, input_shape=(48,48,3),pooling=\"avg\")\n",
    "# print(vgg_model.summary())\n",
    "\n",
    "last_layer = vgg_model.get_layer('pool5').output\n",
    "x = Flatten(name='flatten')(last_layer)\n",
    "x = Dropout(DROPOUT_RATE)(x)\n",
    "x = Dense(4096, activation='relu', name='fc6')(x)\n",
    "x = Dropout(DROPOUT_RATE)(x)\n",
    "x = Dense(1024, activation='relu', name='fc7')(x)\n",
    "\n",
    "for i in range(FROZEN_LAYER_NUM):\n",
    "    vgg_model.layers[i].trainable = False\n",
    "\n",
    "print(vgg_model.get_layer('pool5').trainable)\n",
    "\n",
    "out = Dense(7, activation='softmax', name='classifier')(x)\n",
    "\n",
    "model = Model(vgg_model.input, out)\n",
    "print(model.summary())\n",
    "\n",
    "optim = keras.optimizers.Adam(lr=ADAM_LEARNING_RATE, beta_1=0.9, beta_2=0.999, epsilon=1e-08, decay=0.0)\n",
    "\n",
    "reduce_lr = keras.callbacks.ReduceLROnPlateau(monitor='val_accuracy', factor=0.2,\n",
    "                              patience=10, min_lr=0.001)\n",
    "model.compile(optimizer=optim, loss='categorical_crossentropy', metrics=['accuracy'])"
   ]
  },
  {
   "cell_type": "markdown",
   "metadata": {},
   "source": [
    "load in preprocessed data"
   ]
  },
  {
   "cell_type": "code",
   "execution_count": 5,
   "metadata": {},
   "outputs": [
    {
     "name": "stdout",
     "output_type": "stream",
     "text": [
      "Found 22035 files belonging to 7 classes.\n",
      "Using 17628 files for training.\n",
      "Found 22035 files belonging to 7 classes.\n",
      "Using 4407 files for validation.\n",
      "Found 5512 files belonging to 7 classes.\n"
     ]
    }
   ],
   "source": [
    "def load_data(train_path, test_path):\n",
    "    train_data = image_dataset.image_dataset_from_directory(\n",
    "            train_path, \n",
    "            label_mode='categorical',\n",
    "            batch_size=BS,\n",
    "            image_size=(48, 48), \n",
    "            shuffle=True, \n",
    "            seed=1337,\n",
    "            validation_split=0.2,\n",
    "            subset=\"training\")\n",
    "    val_data = image_dataset.image_dataset_from_directory(\n",
    "            train_path, \n",
    "            label_mode='categorical',\n",
    "            batch_size=BS,\n",
    "            image_size=(48, 48), \n",
    "            shuffle=True, \n",
    "            seed=1337,\n",
    "            validation_split=0.2,\n",
    "            subset=\"validation\")\n",
    "    test_data = image_dataset.image_dataset_from_directory(\n",
    "            test_path, \n",
    "            label_mode='categorical',\n",
    "            batch_size=BS,\n",
    "            image_size=(48, 48), \n",
    "            shuffle=True)\n",
    "    return train_data, val_data, test_data\n",
    "\n",
    "# configuration for better performance\n",
    "AUTOTUNE = tf.data.experimental.AUTOTUNE\n",
    "train_data = train_data.cache().prefetch(buffer_size=AUTOTUNE)\n",
    "valid_data = valid_data.cache().prefetch(buffer_size=AUTOTUNE)\n",
    "train_data, valid_data, test_data = load_data(\"dataset2/train\", \"dataset2/test\")"
   ]
  },
  {
   "cell_type": "code",
   "execution_count": 6,
   "metadata": {},
   "outputs": [
    {
     "name": "stdout",
     "output_type": "stream",
     "text": [
      "Epoch 1/50\n",
      "138/138 [==============================] - 141s 1s/step - loss: 5.9781 - accuracy: 0.3068 - val_loss: 1.6298 - val_accuracy: 0.3767\n",
      "Epoch 2/50\n",
      "138/138 [==============================] - 146s 1s/step - loss: 1.6143 - accuracy: 0.3793 - val_loss: 1.5830 - val_accuracy: 0.3960\n",
      "Epoch 3/50\n",
      "138/138 [==============================] - 154s 1s/step - loss: 1.5477 - accuracy: 0.4066 - val_loss: 1.5708 - val_accuracy: 0.3973\n",
      "Epoch 4/50\n",
      "138/138 [==============================] - 154s 1s/step - loss: 1.4925 - accuracy: 0.4266 - val_loss: 1.5702 - val_accuracy: 0.4146\n",
      "Epoch 5/50\n",
      "138/138 [==============================] - 169s 1s/step - loss: 1.4447 - accuracy: 0.4534 - val_loss: 1.5562 - val_accuracy: 0.4134\n",
      "Epoch 6/50\n",
      "138/138 [==============================] - 176s 1s/step - loss: 1.3923 - accuracy: 0.4746 - val_loss: 1.5780 - val_accuracy: 0.4139\n",
      "Epoch 7/50\n",
      "138/138 [==============================] - 176s 1s/step - loss: 1.3342 - accuracy: 0.4971 - val_loss: 1.5584 - val_accuracy: 0.4302\n",
      "Epoch 8/50\n",
      "138/138 [==============================] - 189s 1s/step - loss: 1.2814 - accuracy: 0.5205 - val_loss: 1.6713 - val_accuracy: 0.4073\n",
      "Epoch 9/50\n",
      "138/138 [==============================] - 209s 2s/step - loss: 1.2411 - accuracy: 0.5358 - val_loss: 1.6116 - val_accuracy: 0.4329\n",
      "Epoch 10/50\n",
      "138/138 [==============================] - 202s 1s/step - loss: 1.1860 - accuracy: 0.5559 - val_loss: 1.6792 - val_accuracy: 0.4125\n",
      "Epoch 11/50\n",
      "138/138 [==============================] - 204s 1s/step - loss: 1.1372 - accuracy: 0.5773 - val_loss: 1.6789 - val_accuracy: 0.4187\n",
      "Epoch 12/50\n",
      "138/138 [==============================] - 205s 1s/step - loss: 1.0999 - accuracy: 0.5921 - val_loss: 1.7286 - val_accuracy: 0.4162\n",
      "Epoch 13/50\n",
      "138/138 [==============================] - 201s 1s/step - loss: 1.0579 - accuracy: 0.6028 - val_loss: 1.7712 - val_accuracy: 0.4173\n",
      "Epoch 14/50\n",
      "138/138 [==============================] - 204s 1s/step - loss: 1.0177 - accuracy: 0.6249 - val_loss: 1.7599 - val_accuracy: 0.4341\n",
      "Epoch 15/50\n",
      "138/138 [==============================] - 203s 1s/step - loss: 0.9743 - accuracy: 0.6398 - val_loss: 1.8222 - val_accuracy: 0.4248\n",
      "Epoch 16/50\n",
      "138/138 [==============================] - 203s 1s/step - loss: 0.9357 - accuracy: 0.6545 - val_loss: 1.8595 - val_accuracy: 0.4123\n",
      "Epoch 17/50\n",
      "138/138 [==============================] - 207s 2s/step - loss: 0.8928 - accuracy: 0.6736 - val_loss: 1.8978 - val_accuracy: 0.4295\n",
      "Epoch 18/50\n",
      "138/138 [==============================] - 204s 1s/step - loss: 0.8722 - accuracy: 0.6782 - val_loss: 1.9599 - val_accuracy: 0.4334\n",
      "Epoch 19/50\n",
      "138/138 [==============================] - 204s 1s/step - loss: 0.8464 - accuracy: 0.6915 - val_loss: 2.0921 - val_accuracy: 0.4270\n",
      "Epoch 20/50\n",
      "138/138 [==============================] - 411s 3s/step - loss: 0.8035 - accuracy: 0.7083 - val_loss: 2.0710 - val_accuracy: 0.4211\n",
      "Epoch 21/50\n",
      "138/138 [==============================] - 409s 3s/step - loss: 0.7725 - accuracy: 0.7202 - val_loss: 2.1160 - val_accuracy: 0.4243\n",
      "Epoch 22/50\n",
      "138/138 [==============================] - 410s 3s/step - loss: 0.7558 - accuracy: 0.7275 - val_loss: 2.0741 - val_accuracy: 0.4277\n",
      "Epoch 23/50\n",
      "138/138 [==============================] - 411s 3s/step - loss: 0.7190 - accuracy: 0.7437 - val_loss: 2.1273 - val_accuracy: 0.4214\n",
      "Epoch 24/50\n",
      "138/138 [==============================] - 408s 3s/step - loss: 0.7096 - accuracy: 0.7438 - val_loss: 2.1776 - val_accuracy: 0.4348\n",
      "Epoch 25/50\n",
      "138/138 [==============================] - 406s 3s/step - loss: 0.6702 - accuracy: 0.7591 - val_loss: 2.2959 - val_accuracy: 0.4246\n",
      "Epoch 26/50\n",
      "138/138 [==============================] - 404s 3s/step - loss: 0.6461 - accuracy: 0.7671 - val_loss: 2.2580 - val_accuracy: 0.4361\n",
      "Epoch 27/50\n",
      "138/138 [==============================] - 409s 3s/step - loss: 0.6241 - accuracy: 0.7782 - val_loss: 2.3401 - val_accuracy: 0.4275\n",
      "Epoch 28/50\n",
      "138/138 [==============================] - 412s 3s/step - loss: 0.6134 - accuracy: 0.7805 - val_loss: 2.3400 - val_accuracy: 0.4227\n",
      "Epoch 29/50\n",
      "138/138 [==============================] - 425s 3s/step - loss: 0.5878 - accuracy: 0.7941 - val_loss: 2.4150 - val_accuracy: 0.4364\n",
      "Epoch 30/50\n",
      "138/138 [==============================] - 476s 3s/step - loss: 0.5751 - accuracy: 0.7944 - val_loss: 2.3721 - val_accuracy: 0.4364\n",
      "Epoch 31/50\n",
      "138/138 [==============================] - 482s 3s/step - loss: 0.5466 - accuracy: 0.8075 - val_loss: 2.4252 - val_accuracy: 0.4423\n",
      "Epoch 32/50\n",
      "138/138 [==============================] - 481s 3s/step - loss: 0.5302 - accuracy: 0.8156 - val_loss: 2.4439 - val_accuracy: 0.4413\n",
      "Epoch 33/50\n",
      "138/138 [==============================] - 484s 4s/step - loss: 0.5330 - accuracy: 0.8160 - val_loss: 2.5080 - val_accuracy: 0.4434\n",
      "Epoch 34/50\n",
      "138/138 [==============================] - 486s 4s/step - loss: 0.5066 - accuracy: 0.8223 - val_loss: 2.5027 - val_accuracy: 0.4384\n",
      "Epoch 35/50\n",
      "138/138 [==============================] - 530s 4s/step - loss: 0.4872 - accuracy: 0.8308 - val_loss: 2.6574 - val_accuracy: 0.4314\n",
      "Epoch 36/50\n",
      "138/138 [==============================] - 533s 4s/step - loss: 0.4867 - accuracy: 0.8290 - val_loss: 2.6759 - val_accuracy: 0.4334\n",
      "Epoch 37/50\n",
      "138/138 [==============================] - 523s 4s/step - loss: 0.4933 - accuracy: 0.8306 - val_loss: 2.7827 - val_accuracy: 0.4336\n",
      "Epoch 38/50\n",
      "138/138 [==============================] - 527s 4s/step - loss: 0.4665 - accuracy: 0.8397 - val_loss: 2.7237 - val_accuracy: 0.4239\n",
      "Epoch 39/50\n",
      "138/138 [==============================] - 540s 4s/step - loss: 0.4405 - accuracy: 0.8456 - val_loss: 2.7733 - val_accuracy: 0.4398\n",
      "Epoch 40/50\n",
      "138/138 [==============================] - 531s 4s/step - loss: 0.4234 - accuracy: 0.8514 - val_loss: 2.8064 - val_accuracy: 0.4359\n",
      "Epoch 41/50\n",
      "138/138 [==============================] - 514s 4s/step - loss: 0.4233 - accuracy: 0.8574 - val_loss: 2.7713 - val_accuracy: 0.4454\n",
      "Epoch 42/50\n",
      "138/138 [==============================] - 513s 4s/step - loss: 0.4117 - accuracy: 0.8600 - val_loss: 2.7968 - val_accuracy: 0.4252\n",
      "Epoch 43/50\n",
      "138/138 [==============================] - 516s 4s/step - loss: 0.4056 - accuracy: 0.8591 - val_loss: 2.8314 - val_accuracy: 0.4402\n",
      "Epoch 44/50\n",
      "138/138 [==============================] - 521s 4s/step - loss: 0.3997 - accuracy: 0.8633 - val_loss: 2.8503 - val_accuracy: 0.4386\n",
      "Epoch 45/50\n",
      "138/138 [==============================] - 525s 4s/step - loss: 0.3737 - accuracy: 0.8740 - val_loss: 2.8915 - val_accuracy: 0.4402\n",
      "Epoch 46/50\n",
      "138/138 [==============================] - 540s 4s/step - loss: 0.3879 - accuracy: 0.8689 - val_loss: 2.9109 - val_accuracy: 0.4348\n",
      "Epoch 47/50\n",
      "138/138 [==============================] - 568s 4s/step - loss: 0.3781 - accuracy: 0.8738 - val_loss: 2.8964 - val_accuracy: 0.4332\n",
      "Epoch 48/50\n",
      "138/138 [==============================] - 564s 4s/step - loss: 0.3724 - accuracy: 0.8729 - val_loss: 2.8605 - val_accuracy: 0.4305\n",
      "Epoch 49/50\n",
      "138/138 [==============================] - 563s 4s/step - loss: 0.3525 - accuracy: 0.8806 - val_loss: 3.0084 - val_accuracy: 0.4200\n",
      "Epoch 50/50\n",
      "138/138 [==============================] - 555s 4s/step - loss: 0.3404 - accuracy: 0.8831 - val_loss: 2.9938 - val_accuracy: 0.4375\n"
     ]
    }
   ],
   "source": [
    "history = model.fit(\n",
    "    train_data,\n",
    "    validation_data=valid_data,\n",
    "    shuffle=True,\n",
    "    epochs=EPOCHS,\n",
    "    callbacks=[reduce_lr]\n",
    "    )\n"
   ]
  },
  {
   "cell_type": "code",
   "execution_count": 7,
   "metadata": {},
   "outputs": [
    {
     "name": "stdout",
     "output_type": "stream",
     "text": [
      "dict_keys(['loss', 'accuracy', 'val_loss', 'val_accuracy', 'lr'])\n"
     ]
    },
    {
     "data": {
      "image/png": "[encoded data removed]",
      "text/plain": [
       "<Figure size 432x288 with 1 Axes>"
      ]
     },
     "metadata": {
      "needs_background": "light"
     },
     "output_type": "display_data"
    },
    {
     "data": {
      "image/png": "[encoded data removed]",
      "text/plain": [
       "<Figure size 432x288 with 1 Axes>"
      ]
     },
     "metadata": {
      "needs_background": "light"
     },
     "output_type": "display_data"
    }
   ],
   "source": [
    "epoch_str = '-EPOCHS_' + str(EPOCHS)\n",
    "dropout_str = '-DROPOUT_' + str(DROPOUT_RATE)\n",
    "# list all data in history\n",
    "print(history.history.keys())\n",
    "# summarize history for accuracy\n",
    "plt.plot(history.history['accuracy'])\n",
    "plt.plot(history.history['val_accuracy'])\n",
    "plt.title('model accuracy')\n",
    "plt.ylabel('accuracy')\n",
    "plt.xlabel('epoch')\n",
    "plt.legend(['train', 'validation'])\n",
    "plt.savefig('results/VGG16_dense1024' + epoch_str + dropout_str + '-accuracy.png')\n",
    "plt.show()\n",
    "# summarize history for loss\n",
    "plt.plot(history.history['loss'])\n",
    "plt.plot(history.history['val_loss'])\n",
    "plt.title('model loss')\n",
    "plt.ylabel('loss')\n",
    "plt.xlabel('epoch')\n",
    "plt.legend(['train', 'validation'])\n",
    "plt.savefig('results/VGG16_dense1024' + epoch_str + dropout_str + '-loss.png')\n",
    "plt.show()"
   ]
  },
  {
   "cell_type": "code",
   "execution_count": 8,
   "metadata": {},
   "outputs": [
    {
     "name": "stdout",
     "output_type": "stream",
     "text": [
      "\n",
      "# Evaluate on validation data\n",
      "35/35 [==============================] - 103s 3s/step - loss: 2.9938 - accuracy: 0.4375\n",
      "validation loss, validation accuracy: [2.9937853813171387, 0.43748581409454346]\n"
     ]
    }
   ],
   "source": [
    "print('\\n# Evaluate on validation data')\n",
    "results_val = model.evaluate(valid_data, batch_size=BS)\n",
    "print('validation loss, validation accuracy:', results_val)"
   ]
  },
  {
   "cell_type": "code",
   "execution_count": 9,
   "metadata": {},
   "outputs": [
    {
     "name": "stdout",
     "output_type": "stream",
     "text": [
      "\n",
      "# Evaluate on test data\n",
      "44/44 [==============================] - 124s 3s/step - loss: 2.8836 - accuracy: 0.4537\n",
      "test loss, test accuracy: [2.8835604190826416, 0.4537372887134552]\n"
     ]
    }
   ],
   "source": [
    "print('\\n# Evaluate on test data')\n",
    "results_test = model.evaluate(test_data, batch_size=BS)\n",
    "print('test loss, test accuracy:', results_test)"
   ]
  },
  {
   "cell_type": "code",
   "execution_count": 1,
   "metadata": {},
   "outputs": [
    {
     "ename": "NameError",
     "evalue": "name 'model' is not defined",
     "output_type": "error",
     "traceback": [
      "\u001b[0;31m---------------------------------------------------------------------------\u001b[0m",
      "\u001b[0;31mNameError\u001b[0m                                 Traceback (most recent call last)",
      "\u001b[0;32m<ipython-input-1-424f8ca6882e>\u001b[0m in \u001b[0;36m<module>\u001b[0;34m\u001b[0m\n\u001b[0;32m----> 1\u001b[0;31m \u001b[0mY_pred\u001b[0m \u001b[0;34m=\u001b[0m \u001b[0mmodel\u001b[0m\u001b[0;34m.\u001b[0m\u001b[0mpredict\u001b[0m\u001b[0;34m(\u001b[0m\u001b[0mvalid_data\u001b[0m\u001b[0;34m,\u001b[0m \u001b[0;36m4407\u001b[0m \u001b[0;34m//\u001b[0m \u001b[0mBS\u001b[0m\u001b[0;34m+\u001b[0m\u001b[0;36m1\u001b[0m\u001b[0;34m)\u001b[0m\u001b[0;34m\u001b[0m\u001b[0;34m\u001b[0m\u001b[0m\n\u001b[0m\u001b[1;32m      2\u001b[0m \u001b[0my_pred\u001b[0m \u001b[0;34m=\u001b[0m \u001b[0mnp\u001b[0m\u001b[0;34m.\u001b[0m\u001b[0margmax\u001b[0m\u001b[0;34m(\u001b[0m\u001b[0mY_pred\u001b[0m\u001b[0;34m,\u001b[0m \u001b[0maxis\u001b[0m\u001b[0;34m=\u001b[0m\u001b[0;36m1\u001b[0m\u001b[0;34m)\u001b[0m\u001b[0;34m\u001b[0m\u001b[0;34m\u001b[0m\u001b[0m\n\u001b[1;32m      3\u001b[0m \u001b[0mprint\u001b[0m\u001b[0;34m(\u001b[0m\u001b[0;34m'Confusion Matrix'\u001b[0m\u001b[0;34m)\u001b[0m\u001b[0;34m\u001b[0m\u001b[0;34m\u001b[0m\u001b[0m\n\u001b[1;32m      4\u001b[0m \u001b[0mprint\u001b[0m\u001b[0;34m(\u001b[0m\u001b[0mconfusion_matrix\u001b[0m\u001b[0;34m(\u001b[0m\u001b[0mvalidation_generator\u001b[0m\u001b[0;34m.\u001b[0m\u001b[0mclasses\u001b[0m\u001b[0;34m,\u001b[0m \u001b[0my_pred\u001b[0m\u001b[0;34m)\u001b[0m\u001b[0;34m)\u001b[0m\u001b[0;34m\u001b[0m\u001b[0;34m\u001b[0m\u001b[0m\n",
      "\u001b[0;31mNameError\u001b[0m: name 'model' is not defined"
     ]
    }
   ],
   "source": [
    "Y = model"
   ]
  },
  {
   "cell_type": "code",
   "execution_count": null,
   "metadata": {},
   "outputs": [],
   "source": []
  }
 ],
 "metadata": {
  "kernelspec": {
   "display_name": "Python 3",
   "language": "python",
   "name": "python3"
  },
  "language_info": {
   "codemirror_mode": {
    "name": "ipython",
    "version": 3
   },
   "file_extension": ".py",
   "mimetype": "text/x-python",
   "name": "python",
   "nbconvert_exporter": "python",
   "pygments_lexer": "ipython3",
   "version": "3.8.5"
  }
 },
 "nbformat": 4,
 "nbformat_minor": 4
}
