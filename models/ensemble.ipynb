{
  "nbformat": 4,
  "nbformat_minor": 0,
  "metadata": {
    "colab": {
      "name": "ensemble2.ipynb",
      "provenance": [],
      "collapsed_sections": []
    },
    "kernelspec": {
      "name": "python3",
      "display_name": "Python 3"
    },
    "accelerator": "GPU"
  },
  "cells": [
    {
      "cell_type": "code",
      "metadata": {
        "id": "cco8-m1iFtZ5",
        "colab": {
          "base_uri": "https://localhost:8080/"
        },
        "outputId": "9b011537-fe81-4c5f-ed33-7e7d645fd100"
      },
      "source": [
        "from google.colab import drive\n",
        "drive.mount('/content/drive')"
      ],
      "execution_count": null,
      "outputs": [
        {
          "output_type": "stream",
          "text": [
            "Mounted at /content/drive\n"
          ],
          "name": "stdout"
        }
      ]
    },
    {
      "cell_type": "code",
      "metadata": {
        "id": "vpe4LUVXIi2d"
      },
      "source": [
        "! unzip -q '/content/drive/My Drive/Colab Notebooks/train.zip' -d dataset\n",
        "! unzip -q '/content/drive/My Drive/Colab Notebooks/test.zip' -d dataset"
      ],
      "execution_count": null,
      "outputs": []
    },
    {
      "cell_type": "code",
      "metadata": {
        "id": "EmypXuHaIt5f"
      },
      "source": [
        "# %tensorflow_version 1.x\n",
        "from tensorflow.keras.preprocessing.image import ImageDataGenerator\n",
        "from tensorflow.python.keras.preprocessing import image_dataset\n",
        "from keras.models import load_model\n",
        "from sklearn.metrics import accuracy_score"
      ],
      "execution_count": null,
      "outputs": []
    },
    {
      "cell_type": "code",
      "metadata": {
        "id": "Gy8-KFsJG7NV"
      },
      "source": [
        "def load_data3(path, batch_size, split=False):\n",
        "    if split:\n",
        "      datagen = ImageDataGenerator(rescale=1./255, validation_split=0.2)\n",
        "      return datagen.flow_from_directory(\n",
        "              path,\n",
        "              target_size=(197, 197),\n",
        "              shuffle = True,\n",
        "              class_mode='categorical',\n",
        "              batch_size=batch_size,\n",
        "              subset='training'), datagen.flow_from_directory(\n",
        "              path,\n",
        "              target_size=(197, 197),\n",
        "              class_mode='categorical',\n",
        "              batch_size=batch_size,\n",
        "              subset='validation')\n",
        "    else:\n",
        "      datagen = ImageDataGenerator(rescale=1./255)\n",
        "      return datagen.flow_from_directory(\n",
        "              path,\n",
        "              target_size=(197, 197),\n",
        "              shuffle=False,\n",
        "              class_mode='categorical',\n",
        "              batch_size=batch_size,\n",
        "              color_mode='rgb'), None\n",
        "def load_ds(train_path, test_path, batch_size, image_size):\n",
        "    train_data = image_dataset.image_dataset_from_directory(\n",
        "            train_path, \n",
        "            label_mode='categorical',\n",
        "            batch_size=batch_size,\n",
        "            image_size=(image_size, image_size), \n",
        "            shuffle=True, \n",
        "            seed=1337,\n",
        "            validation_split=0.2,\n",
        "            subset=\"training\")\n",
        "    val_data = image_dataset.image_dataset_from_directory(\n",
        "            train_path, \n",
        "            label_mode='categorical',\n",
        "            batch_size=batch_size,\n",
        "            image_size=(image_size, image_size), \n",
        "            shuffle=True, \n",
        "            seed=1337,\n",
        "            validation_split=0.2,\n",
        "            subset=\"validation\")\n",
        "    test_data = image_dataset.image_dataset_from_directory(\n",
        "            test_path, \n",
        "            label_mode='categorical',\n",
        "            batch_size=batch_size,\n",
        "            image_size=(image_size, image_size), \n",
        "            shuffle=False)\n",
        "    return train_data, val_data, test_data"
      ],
      "execution_count": null,
      "outputs": []
    },
    {
      "cell_type": "code",
      "metadata": {
        "colab": {
          "base_uri": "https://localhost:8080/"
        },
        "id": "e_TfacRhIvOK",
        "outputId": "b98159dc-3652-4921-b90c-4fe1098e6853"
      },
      "source": [
        "# train_generator, _  = load_data('/content/train')\n",
        "# test_generator, _  = load_data('/content/test')\n",
        "test3_generator128, _ = load_data3('/content/test', 128)\n",
        "test3_generator64, _ = load_data3('/content/test', 64)\n",
        "_, _, test_ds197 = load_ds(\"/content/train\", \"/content/test\", 128, 197)\n",
        "_, _, test_ds48 = load_ds(\"/content/train\", \"/content/test\", 128, 48)"
      ],
      "execution_count": null,
      "outputs": [
        {
          "output_type": "stream",
          "text": [
            "Found 5512 images belonging to 7 classes.\n",
            "Found 5512 images belonging to 7 classes.\n",
            "Found 22035 files belonging to 7 classes.\n",
            "Using 17628 files for training.\n",
            "Found 22035 files belonging to 7 classes.\n",
            "Using 4407 files for validation.\n",
            "Found 5512 files belonging to 7 classes.\n",
            "Found 22035 files belonging to 7 classes.\n",
            "Using 17628 files for training.\n",
            "Found 22035 files belonging to 7 classes.\n",
            "Using 4407 files for validation.\n",
            "Found 5512 files belonging to 7 classes.\n"
          ],
          "name": "stdout"
        }
      ]
    },
    {
      "cell_type": "code",
      "metadata": {
        "id": "kRilAGfOJEZl"
      },
      "source": [
        "import numpy as np\n",
        "# make an ensemble prediction for multi-class classification\n",
        "def ensemble_predictions(models_TL):\n",
        "  # make predictions\n",
        "  yhats = np.zeros((len(models_TL),5512,7))\n",
        "\n",
        "  for model_ind in range(len(models_TL)):\n",
        "    (model, data) = models_TL[model_ind]\n",
        "    yhat = model.predict(data)\n",
        "    # print(yhat)\n",
        "    # print(len(yhat))\n",
        "    yhats[model_ind,:,:] = yhat\n",
        "\n",
        "  summed = np.sum(yhats, axis=0)\n",
        "  result = np.argmax(summed, axis=1)\n",
        "  return result"
      ],
      "execution_count": null,
      "outputs": []
    },
    {
      "cell_type": "code",
      "metadata": {
        "id": "y7Ft6UZkF3Hk",
        "colab": {
          "base_uri": "https://localhost:8080/"
        },
        "outputId": "dc59236d-7e17-430f-c2b9-dab9b25eb535"
      },
      "source": [
        "vgg_model = load_model('/content/drive/MyDrive/model/VGG16/VGG16_sgd_-EPOCHS_120-DROPOUT_0.5-test_acc_0.683.h5')\n",
        "print('\\n# Evaluate on test data')\n",
        "results_test = vgg_model.evaluate(test_ds197)\n",
        "print('test loss, test acc:', results_test)"
      ],
      "execution_count": null,
      "outputs": [
        {
          "output_type": "stream",
          "text": [
            "\n",
            "# Evaluate on test data\n",
            "44/44 [==============================] - 14s 316ms/step - loss: 0.9335 - accuracy: 0.6831\n",
            "test loss, test acc: [0.9334798455238342, 0.6830551624298096]\n"
          ],
          "name": "stdout"
        }
      ]
    },
    {
      "cell_type": "code",
      "metadata": {
        "id": "QYkx_qewGNYc",
        "colab": {
          "base_uri": "https://localhost:8080/"
        },
        "outputId": "a3777a4f-b78a-49ea-e2ee-483651a15fc6"
      },
      "source": [
        "resnet50_model = load_model('/content/drive/MyDrive/model/Resnet50/resnet50-weights-best.h5')\n",
        "print('\\n# Evaluate on test data')\n",
        "results_test = resnet50_model.evaluate(test3_generator128)\n",
        "print('test loss, test acc:', results_test)"
      ],
      "execution_count": null,
      "outputs": [
        {
          "output_type": "stream",
          "text": [
            "\n",
            "# Evaluate on test data\n",
            "44/44 [==============================] - 7s 162ms/step - loss: 1.0349 - accuracy: 0.6856\n",
            "test loss, test acc: [1.034889578819275, 0.6855950355529785]\n"
          ],
          "name": "stdout"
        }
      ]
    },
    {
      "cell_type": "code",
      "metadata": {
        "id": "_67aXGrczLwy"
      },
      "source": [
        "resnet18_model = load_model('/content/drive/MyDrive/model/RESNET18.h5')"
      ],
      "execution_count": null,
      "outputs": []
    },
    {
      "cell_type": "code",
      "metadata": {
        "colab": {
          "base_uri": "https://localhost:8080/"
        },
        "id": "rC_y3jfgTwOB",
        "outputId": "1144a324-d5c0-4c84-9e6a-b359cb67045f"
      },
      "source": [
        "base_model = load_model('/content/drive/MyDrive/model/Baseline/baseline-EPOCHS_150-DROPOUT_0.3-test_acc_0.675.h5')\n",
        "print('\\n# Evaluate on test data')\n",
        "results_test = base_model.evaluate(test_ds48)\n",
        "print('test loss, test acc:', results_test)"
      ],
      "execution_count": null,
      "outputs": [
        {
          "output_type": "stream",
          "text": [
            "\n",
            "# Evaluate on test data\n",
            "44/44 [==============================] - 3s 79ms/step - loss: 1.5137 - accuracy: 0.6751\n",
            "test loss, test acc: [1.5137064456939697, 0.6750725507736206]\n"
          ],
          "name": "stdout"
        }
      ]
    },
    {
      "cell_type": "code",
      "metadata": {
        "colab": {
          "base_uri": "https://localhost:8080/"
        },
        "id": "6784B_jKYFXI",
        "outputId": "36348b50-dd17-4566-b376-d59fb518c2d5"
      },
      "source": [
        "senet50_model = load_model('/content/drive/MyDrive/model/Senet50/senet50-weights-best.h5')\n",
        "print('\\n# Evaluate on test data')\n",
        "results_test = senet50_model.evaluate(test3_generator64)\n",
        "print('test loss, test acc:', results_test)"
      ],
      "execution_count": null,
      "outputs": [
        {
          "output_type": "stream",
          "text": [
            "\n",
            "# Evaluate on test data\n",
            "87/87 [==============================] - 9s 100ms/step - loss: 1.1435 - accuracy: 0.6239\n",
            "test loss, test acc: [1.143450140953064, 0.623911440372467]\n"
          ],
          "name": "stdout"
        }
      ]
    },
    {
      "cell_type": "code",
      "metadata": {
        "id": "KVCDxiiDy2YA"
      },
      "source": [
        "models_TL = [(vgg_model, test_ds197), (resnet50_model, test3_generator128), (senet50_model, test3_generator64), (base_model, test_ds48)]"
      ],
      "execution_count": null,
      "outputs": []
    },
    {
      "cell_type": "code",
      "metadata": {
        "id": "ilbUnYYuy1H6"
      },
      "source": [
        "result = ensemble_predictions(models_TL)\n",
        "labels = test3_generator128.classes"
      ],
      "execution_count": null,
      "outputs": []
    },
    {
      "cell_type": "code",
      "metadata": {
        "colab": {
          "base_uri": "https://localhost:8080/"
        },
        "id": "U_ys_JoxG3Im",
        "outputId": "7094f36e-d9db-46df-c3ad-fc6808bfaf40"
      },
      "source": [
        "accuracy_score(result, labels)"
      ],
      "execution_count": null,
      "outputs": [
        {
          "output_type": "execute_result",
          "data": {
            "text/plain": [
              "0.7224238026124818"
            ]
          },
          "metadata": {
            "tags": []
          },
          "execution_count": 27
        }
      ]
    },
    {
      "cell_type": "code",
      "metadata": {
        "id": "ZyXvRDEIgiTI"
      },
      "source": [
        ""
      ],
      "execution_count": null,
      "outputs": []
    }
  ]
}